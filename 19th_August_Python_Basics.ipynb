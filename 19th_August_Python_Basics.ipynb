{
 "cells": [
  {
   "cell_type": "markdown",
   "id": "b8a85e03-15fc-41c7-a46e-529f4696fa74",
   "metadata": {},
   "source": [
    "TOPIC: Python Basics Variable"
   ]
  },
  {
   "cell_type": "markdown",
   "id": "a6976a01-d1c5-438e-abd0-39ec498fb2c9",
   "metadata": {},
   "source": [
    "1. Declare two variables, `x` and `y`, and assign them integer values.\n",
    "Swap the values of these variables without using any temporary\n",
    "variable."
   ]
  },
  {
   "cell_type": "code",
   "execution_count": 1,
   "id": "3c20c74d-de05-42e7-b6f1-239b6439bf30",
   "metadata": {},
   "outputs": [
    {
     "name": "stdin",
     "output_type": "stream",
     "text": [
      "Enter the value of x:  10\n",
      "Enter the value of y:  20\n"
     ]
    },
    {
     "name": "stdout",
     "output_type": "stream",
     "text": [
      "Before swapping:\n",
      "x = 10\n",
      "y = 20\n",
      "After swapping:\n",
      "x = 20\n",
      "y = 10\n"
     ]
    }
   ],
   "source": [
    "x = int(input(\"Enter the value of x: \"))\n",
    "y = int(input(\"Enter the value of y: \"))\n",
    "\n",
    "print(\"Before swapping:\")\n",
    "print(\"x =\", x)\n",
    "print(\"y =\", y)\n",
    "\n",
    "x = x + y\n",
    "y = x - y\n",
    "x = x - y\n",
    "\n",
    "print(\"After swapping:\")\n",
    "print(\"x =\", x)\n",
    "print(\"y =\", y)"
   ]
  },
  {
   "cell_type": "markdown",
   "id": "6f6c5685-7759-4d08-999d-fbe57b55ff88",
   "metadata": {},
   "source": [
    "2. Create a program that calculates the area of a rectangle. Take the\n",
    "length and width as inputs from the user and store them in variables.\n",
    "Calculate and display the area."
   ]
  },
  {
   "cell_type": "code",
   "execution_count": 2,
   "id": "0c962c27-f355-4437-bf06-17dcee85c393",
   "metadata": {},
   "outputs": [
    {
     "name": "stdin",
     "output_type": "stream",
     "text": [
      "Enter height of the rectangle:  10.5\n",
      "Enter width of the rectangle:  20.5\n"
     ]
    },
    {
     "name": "stdout",
     "output_type": "stream",
     "text": [
      "Area of rectangle= 215.25\n"
     ]
    }
   ],
   "source": [
    "Height = float(input(\"Enter height of the rectangle: \"))\n",
    "Width  = float(input(\"Enter width of the rectangle: \"))\n",
    "Area   = Height*Width\n",
    "\n",
    "print(\"Area of rectangle=\",Area)"
   ]
  },
  {
   "cell_type": "markdown",
   "id": "56c8bc1a-2199-4417-891a-d0a53237c57d",
   "metadata": {},
   "source": [
    "3. Write a Python program that converts temperature from Celsius to\n",
    "Fahrenheit. Take the temperature in Celsius as input, store it in a\n",
    "variable, convert it to Fahrenheit, and display the result."
   ]
  },
  {
   "cell_type": "code",
   "execution_count": 3,
   "id": "23a83914-5acd-4100-90e7-8d4a4e93d433",
   "metadata": {},
   "outputs": [
    {
     "name": "stdin",
     "output_type": "stream",
     "text": [
      "Enter temperature in celsius:  10\n"
     ]
    },
    {
     "name": "stdout",
     "output_type": "stream",
     "text": [
      "Temperature in Fahrenheit is =  50.0\n"
     ]
    }
   ],
   "source": [
    "Celsius    = float(input(\"Enter temperature in celsius: \"))\n",
    "Fahrenheit = (Celsius*9/5)+32\n",
    "\n",
    "print(\"Temperature in Fahrenheit is = \",Fahrenheit)"
   ]
  },
  {
   "cell_type": "markdown",
   "id": "4643306d-d3fb-4358-b6f6-58ca6e2ef2d7",
   "metadata": {},
   "source": [
    "\n",
    "TOPIC: String Based Questions"
   ]
  },
  {
   "cell_type": "markdown",
   "id": "6430ed13-b952-485d-bba7-a2736c1049cd",
   "metadata": {},
   "source": [
    "1. Write a Python program that takes a string as input and prints the\n",
    "length of the string."
   ]
  },
  {
   "cell_type": "code",
   "execution_count": 5,
   "id": "b975ebc0-043c-4a9a-92ed-deed4b6d9ca7",
   "metadata": {},
   "outputs": [
    {
     "name": "stdin",
     "output_type": "stream",
     "text": [
      "Enter a string:  My name id Dip\n"
     ]
    },
    {
     "name": "stdout",
     "output_type": "stream",
     "text": [
      "Length of string is:  14\n"
     ]
    }
   ],
   "source": [
    "string = input(\"Enter a string: \")\n",
    "length = len(string)\n",
    "\n",
    "print(\"Length of string is: \",length)"
   ]
  },
  {
   "cell_type": "markdown",
   "id": "740dd870-430f-44b0-aa6b-86d964e73d8b",
   "metadata": {},
   "source": [
    "2. Create a program that takes a sentence from the user and counts the\n",
    "number of vowels (a, e, i, o, u) in the string."
   ]
  },
  {
   "cell_type": "code",
   "execution_count": 6,
   "id": "4c5d8ff6-686c-46c3-be5c-e70afd1e8ca1",
   "metadata": {},
   "outputs": [
    {
     "name": "stdin",
     "output_type": "stream",
     "text": [
      "Enter a string:  i'm LeArning data SCIENCE from PWSkills\n"
     ]
    },
    {
     "name": "stdout",
     "output_type": "stream",
     "text": [
      "Number of 'a' = 3\n",
      "Number of 'e' = 3\n",
      "Number of 'i' = 4\n",
      "Number of 'o' = 1\n",
      "Number of 'u' = 0\n",
      "Total number of vowels = 11\n"
     ]
    }
   ],
   "source": [
    "string = input(\"Enter a string: \")\n",
    "string = string.lower()\n",
    "\n",
    "a_count = string.count('a')\n",
    "e_count = string.count('e')\n",
    "i_count = string.count('i')\n",
    "o_count = string.count('o')\n",
    "u_count = string.count('u')\n",
    "\n",
    "print(\"Number of 'a' =\", a_count)\n",
    "print(\"Number of 'e' =\", e_count)\n",
    "print(\"Number of 'i' =\", i_count)\n",
    "print(\"Number of 'o' =\", o_count)\n",
    "print(\"Number of 'u' =\", u_count)\n",
    "\n",
    "total_vowels = a_count + e_count + i_count + o_count + u_count\n",
    "print(\"Total number of vowels =\", total_vowels)"
   ]
  },
  {
   "cell_type": "markdown",
   "id": "31a4c57c-3611-4629-a83f-caa05e30897c",
   "metadata": {},
   "source": [
    "3. Given a string, reverse the order of characters using string slicing and\n",
    "print the reversed string."
   ]
  },
  {
   "cell_type": "code",
   "execution_count": 7,
   "id": "7efda11e-2528-489c-8c63-2e4efff7f4a2",
   "metadata": {},
   "outputs": [
    {
     "name": "stdin",
     "output_type": "stream",
     "text": [
      "Enter a string:  pwskills provide best content for data science\n"
     ]
    },
    {
     "name": "stdout",
     "output_type": "stream",
     "text": [
      "Reversed string: ecneics atad rof tnetnoc tseb edivorp sllikswp\n"
     ]
    }
   ],
   "source": [
    "string          = input(\"Enter a string: \")\n",
    "reversed_string = string[::-1]\n",
    "\n",
    "print(\"Reversed string:\", reversed_string)"
   ]
  },
  {
   "cell_type": "markdown",
   "id": "8c5e7661-6679-453f-a413-a14f37972b4d",
   "metadata": {},
   "source": [
    "4. Write a program that takes a string as input and checks if it is a\n",
    "palindrome (reads the same forwards and backwards)."
   ]
  },
  {
   "cell_type": "code",
   "execution_count": 8,
   "id": "ca13a493-21e6-4d9b-b0e7-b9e359e72936",
   "metadata": {},
   "outputs": [
    {
     "name": "stdin",
     "output_type": "stream",
     "text": [
      "Enter a string:  RadAr\n"
     ]
    },
    {
     "name": "stdout",
     "output_type": "stream",
     "text": [
      "The entered string is a palindrome.\n"
     ]
    }
   ],
   "source": [
    "string       = input(\"Enter a string: \")\n",
    "clean_string = string.replace(\" \", \"\").lower()\n",
    "result       = clean_string == clean_string[::-1]\n",
    "\n",
    "output = [\"not a palindrome\", \"is a palindrome\"]\n",
    "print(f\"The entered string {output[result]}.\")"
   ]
  },
  {
   "cell_type": "markdown",
   "id": "0cc544ee-ddde-4977-9775-e27a6fc59680",
   "metadata": {},
   "source": [
    "5. Create a program that takes a string as input and removes all the\n",
    "spaces from it. Print the modified string without spaces."
   ]
  },
  {
   "cell_type": "code",
   "execution_count": 10,
   "id": "382b9a8e-20ea-4a9e-b525-ddd44bdcffdb",
   "metadata": {},
   "outputs": [
    {
     "name": "stdin",
     "output_type": "stream",
     "text": [
      "Enter a string:  my name is dip\n"
     ]
    },
    {
     "name": "stdout",
     "output_type": "stream",
     "text": [
      "String without spaces: mynameisdip\n"
     ]
    }
   ],
   "source": [
    "string     = input(\"Enter a string: \")\n",
    "new_string = string.replace(\" \", \"\")\n",
    "print(\"String without spaces:\", new_string)"
   ]
  },
  {
   "cell_type": "code",
   "execution_count": null,
   "id": "a59f84f0-8cd9-487d-af3c-53a5237a748d",
   "metadata": {},
   "outputs": [],
   "source": []
  }
 ],
 "metadata": {
  "kernelspec": {
   "display_name": "Python 3 (ipykernel)",
   "language": "python",
   "name": "python3"
  },
  "language_info": {
   "codemirror_mode": {
    "name": "ipython",
    "version": 3
   },
   "file_extension": ".py",
   "mimetype": "text/x-python",
   "name": "python",
   "nbconvert_exporter": "python",
   "pygments_lexer": "ipython3",
   "version": "3.10.8"
  }
 },
 "nbformat": 4,
 "nbformat_minor": 5
}
